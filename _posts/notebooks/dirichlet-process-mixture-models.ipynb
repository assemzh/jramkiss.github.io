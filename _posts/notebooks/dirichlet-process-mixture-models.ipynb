{
 "cells": [
  {
   "cell_type": "markdown",
   "metadata": {},
   "source": [
    "# Dirichlet Process Mixture Models\n",
    "\n",
    "The goal of this notebook is to implement DPMM on an appropriate dataset. \n",
    "\n",
    "First explain what a DPMM is\n",
    "\n",
    "### Questions\n",
    "- How does the clustering actually work? \n",
    "- How is the clustering different to t-SNE?\n",
    "- Do the results in these papers hold true? [Posterior Distribution for the Number of Clusters in Dirichlet Process Mixture Models](https://arxiv.org/abs/1905.09959) and [Finite mixture models are typically inconsistent\n",
    "for the number of components](http://approximateinference.org/2017/accepted/CaiEtAl2017.pdf) and [Inconsistency of Pitman–Yor Process Mixtures\n",
    "for the Number of Components](http://jmlr.org/papers/volume15/miller14a/miller14a.pdf)"
   ]
  },
  {
   "cell_type": "markdown",
   "metadata": {},
   "source": [
    "## What is a DPMM?\n",
    "\n"
   ]
  },
  {
   "cell_type": "code",
   "execution_count": null,
   "metadata": {},
   "outputs": [],
   "source": []
  }
 ],
 "metadata": {
  "kernelspec": {
   "display_name": "Python 3",
   "language": "python",
   "name": "python3"
  },
  "language_info": {
   "codemirror_mode": {
    "name": "ipython",
    "version": 3
   },
   "file_extension": ".py",
   "mimetype": "text/x-python",
   "name": "python",
   "nbconvert_exporter": "python",
   "pygments_lexer": "ipython3",
   "version": "3.6.10"
  }
 },
 "nbformat": 4,
 "nbformat_minor": 4
}
