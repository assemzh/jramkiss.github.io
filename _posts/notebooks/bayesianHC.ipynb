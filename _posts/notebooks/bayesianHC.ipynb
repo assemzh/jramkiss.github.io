{
 "cells": [
  {
   "cell_type": "markdown",
   "metadata": {},
   "source": [
    "## Bayesian Hierarchical Clustering in Python \n",
    "\n",
    "- using this repo: "
   ]
  },
  {
   "cell_type": "code",
   "execution_count": null,
   "metadata": {},
   "outputs": [],
   "source": [
    "from BHClustering.functions import bhc, draw_dendrogram\n",
    "\n",
    "import numpy as np\n",
    "\n",
    "d1 = np.random.dirichlet((20, 1), 2)\n",
    "d2 = np.random.dirichlet((1, 100), 2)\n",
    "d3 = np.random.dirichlet((100, 100), 2)\n",
    "sdata = np.concatenate((d1,d2,d3),axis=0).reshape(-1,1)\n",
    "sdata"
   ]
  },
  {
   "cell_type": "code",
   "execution_count": null,
   "metadata": {},
   "outputs": [],
   "source": [
    "r2,r3 = bhc(sdata, alpha = 500, r_thres = 0.9)\n",
    "\n",
    "z = np.array(r3[-3], dtype=float)\n",
    "z\n",
    "r2\n",
    "r3"
   ]
  },
  {
   "cell_type": "code",
   "execution_count": null,
   "metadata": {},
   "outputs": [],
   "source": [
    "plt.figure()\n",
    "plt.scatter(sdata[:, 0], 1- sdata[:, 0], c=z, cmap='Set1')\n",
    "plt.show();"
   ]
  },
  {
   "cell_type": "markdown",
   "metadata": {},
   "source": [
    "#### Iris Example"
   ]
  },
  {
   "cell_type": "code",
   "execution_count": null,
   "metadata": {},
   "outputs": [],
   "source": [
    "from BHClustering.functions import bhc, draw_dendrogram\n",
    "from anytree import Node, RenderTree\n",
    "\n",
    "url = \"https://archive.ics.uci.edu/ml/machine-learning-databases/iris/iris.data\"\n",
    "names = ['sepal-length', 'sepal-width', 'petal-length', 'petal-width', 'class']\n",
    "dataset = pd.read_csv(url, names=names)\n",
    "dataset=dataset.drop(['class'], axis=1)\n",
    "ar_iris = np.array(dataset,dtype=None)[:, 0:3]\n",
    "df_new = np.array(ar_iris)\n",
    "df_new_copy = np.array(ar_iris)\n",
    "sum_df = np.sum(df_new, axis=1)\n",
    "df_new2 =np.array([])\n",
    "for i in range(df_new.shape[0]):\n",
    "    df_new2 = np.append(df_new2,np.array(df_new[i,:]/sum_df[i]))\n",
    "df_new2 = df_new2.reshape(-1,3)\n",
    "df_new2 = np.concatenate((df_new2[0:10,:], df_new2[50:60,:], df_new2[100:110,:]))\n",
    "\n",
    "r2,r3 = bhc(df_new2, alpha = 100, r_thres = 0.5)\n",
    "\n",
    "draw_dendrogram(r2)"
   ]
  },
  {
   "cell_type": "markdown",
   "metadata": {},
   "source": [
    "## Dendrograms"
   ]
  },
  {
   "cell_type": "code",
   "execution_count": 1,
   "metadata": {},
   "outputs": [
    {
     "name": "stdout",
     "output_type": "stream",
     "text": [
      "Collecting plotly\n",
      "\u001b[?25l  Downloading https://files.pythonhosted.org/packages/f5/c3/03a183b94441da857e7d2b0564cb482bd15824dc1af2d2b337ea6e538c8f/plotly-4.5.4-py2.py3-none-any.whl (7.1MB)\n",
      "\u001b[K    100% |████████████████████████████████| 7.1MB 5.4MB/s eta 0:00:01\n",
      "\u001b[?25hCollecting retrying>=1.3.3 (from plotly)\n",
      "  Downloading https://files.pythonhosted.org/packages/44/ef/beae4b4ef80902f22e3af073397f079c96969c69b2c7d52a57ea9ae61c9d/retrying-1.3.3.tar.gz\n",
      "Requirement already satisfied: six in /Users/jonny/anaconda3/envs/kaggle/lib/python3.6/site-packages (from plotly) (1.11.0)\n",
      "Building wheels for collected packages: retrying\n",
      "  Building wheel for retrying (setup.py) ... \u001b[?25ldone\n",
      "\u001b[?25h  Stored in directory: /Users/jonny/Library/Caches/pip/wheels/d7/a9/33/acc7b709e2a35caa7d4cae442f6fe6fbf2c43f80823d46460c\n",
      "Successfully built retrying\n",
      "Installing collected packages: retrying, plotly\n",
      "Successfully installed plotly-4.5.4 retrying-1.3.3\n",
      "\u001b[33mYou are using pip version 19.0.3, however version 20.0.2 is available.\n",
      "You should consider upgrading via the 'pip install --upgrade pip' command.\u001b[0m\n"
     ]
    }
   ],
   "source": [
    "!pip install plotly"
   ]
  },
  {
   "cell_type": "code",
   "execution_count": null,
   "metadata": {},
   "outputs": [],
   "source": [
    "import plotly.figure_factory as ff\n",
    "\n",
    "import numpy as np\n",
    "\n",
    "X = np.random.rand(10, 12)\n",
    "names = ['Jack', 'Oxana', 'John', 'Chelsea', 'Mark', 'Alice', 'Charlie', 'Rob', 'Lisa', 'Lily']\n",
    "fig = ff.create_dendrogram(X, orientation='left', labels=names)\n",
    "fig.update_layout(width=800, height=800)\n",
    "fig.show()"
   ]
  }
 ],
 "metadata": {
  "kernelspec": {
   "display_name": "Python 3",
   "language": "python",
   "name": "python3"
  },
  "language_info": {
   "codemirror_mode": {
    "name": "ipython",
    "version": 3
   },
   "file_extension": ".py",
   "mimetype": "text/x-python",
   "name": "python",
   "nbconvert_exporter": "python",
   "pygments_lexer": "ipython3",
   "version": "3.6.8"
  }
 },
 "nbformat": 4,
 "nbformat_minor": 2
}
